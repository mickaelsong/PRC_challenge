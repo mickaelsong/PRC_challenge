{
 "cells": [
  {
   "cell_type": "code",
   "execution_count": null,
   "metadata": {},
   "outputs": [],
   "source": [
    "from pyopensky.s3 import S3Client\n",
    "\n",
    "s3 = S3Client()\n",
    "\n",
    "for obj in s3.s3client.list_objects(\"competition-data\", recursive=True):\n",
    "     print(f\"{obj.bucket_name=}, {obj.object_name=}\")\n",
    "     s3.download_object(obj)"
   ]
  }
 ],
 "metadata": {
  "kernelspec": {
   "display_name": "venv",
   "language": "python",
   "name": "python3"
  },
  "language_info": {
   "codemirror_mode": {
    "name": "ipython",
    "version": 3
   },
   "file_extension": ".py",
   "mimetype": "text/x-python",
   "name": "python",
   "nbconvert_exporter": "python",
   "pygments_lexer": "ipython3",
   "version": "3.9.12"
  }
 },
 "nbformat": 4,
 "nbformat_minor": 2
}
